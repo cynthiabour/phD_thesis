{
 "cells": [
  {
   "cell_type": "markdown",
   "source": [
    "# Automatic NMR integration\n",
    "This notebook shows an example of the code used for the automatic acquisition of F-NMR spectra and their integration."
   ],
   "metadata": {
    "collapsed": false,
    "pycharm": {
     "name": "#%% md\n"
    }
   }
  },
  {
   "cell_type": "code",
   "execution_count": 8,
   "outputs": [],
   "source": [
    "import asyncio\n",
    "import numpy as np\n",
    "import pandas as pd\n",
    "import matplotlib.pyplot as plt\n",
    "import itertools as it\n",
    "from flowchem.components.devices.Magritek import Spinsolve, NMRSpectrum\n",
    "from flowchem import Knauer16PortValve"
   ],
   "metadata": {
    "collapsed": false,
    "pycharm": {
     "name": "#%%\n"
    }
   }
  },
  {
   "cell_type": "code",
   "execution_count": null,
   "metadata": {
    "pycharm": {
     "name": "#%%\n"
    }
   },
   "outputs": [],
   "source": [
    "# Acquisition and integration settings\n",
    "\n",
    "# set the wait time between two NMR measurement \n",
    "NMR_DELAY = 60 * 2  # in sec\n",
    "counter = it.count()\n",
    "\n",
    "# set the integration limits (in ppm)\n",
    "peak_list = np.array(\n",
    "    [['SM', -60.85, -61.1 ],\n",
    "     ['Product', -61.1 , -61.35],\n",
    "     ['Side-P', -60.5 , -60.7 ]]\n",
    ")"
   ]
  },
  {
   "cell_type": "code",
   "execution_count": null,
   "metadata": {
    "pycharm": {
     "name": "#%%\n"
    }
   },
   "outputs": [],
   "source": [
    "async def Analysis(observed_result):\n",
    "    nmr = Spinsolve(host=\"BSMC-YMEF002121\")\n",
    "\n",
    "    while True:\n",
    "        path = await nmr.run_protocol(\n",
    "            \"1D FLUORINE+\",\n",
    "            {\n",
    "                \"Number\": 128,\n",
    "                \"AcquisitionTime\": 3.2,\n",
    "                \"RepetitionTime\": 2,\n",
    "                \"PulseAngle\": 90,\n",
    "            },\n",
    "        )\n",
    "        observed_time = (NMR_DELAY / 60 + 4) * next(counter)\n",
    "\n",
    "        peak_normalized_list = peak_aquire_process(path)\n",
    "        observed_result = observed_result.append(\n",
    "            pd.DataFrame(\n",
    "                peak_normalized_list,\n",
    "                index=[\"SM\", \"product\", \"side-P\"],\n",
    "                columns=[observed_time],\n",
    "            ).T\n",
    "        )\n",
    "\n",
    "        # Print results\n",
    "        print(observed_result)\n",
    "        \n",
    "        # save to CSV\n",
    "        observed_result.to_csv(\n",
    "            r\"W:\\BS-FlowChemistry\\People\\Wei-Hsin\\Spinsolve\\dataframe_0317_03.csv\",\n",
    "            header=True,\n",
    "        )\n",
    "        \n",
    "        plt.figure()\n",
    "        observed_result.plot()\n",
    "        plt.legend(loc=\"best\")\n",
    "        plt.savefig(\n",
    "            r\"W:\\BS-FlowChemistry\\People\\Wei-Hsin\\Spinsolve\\plot_0317_03.png\"\n",
    "        )\n",
    "\n",
    "        await asyncio.sleep(NMR_DELAY)"
   ]
  },
  {
   "cell_type": "code",
   "execution_count": null,
   "metadata": {
    "pycharm": {
     "name": "#%%\n"
    }
   },
   "outputs": [],
   "source": [
    "def peak_aquire_process(path):\n",
    "    spectrum = NMRSpectrum(path)\n",
    "    spectrum.process()\n",
    "\n",
    "    peak_sum_list = []\n",
    "\n",
    "    # loop over the integration limits\n",
    "    for name, start, end in peak_list:\n",
    "        min = spectrum.uc(start, \"ppm\")\n",
    "        max = spectrum.uc(end, \"ppm\")\n",
    "        if min > max:\n",
    "            min, max = max, min\n",
    "        # extract the peak\n",
    "        peak = spectrum.processed_data[min : max + 1]\n",
    "        peak_sum_list.append(peak.sum())\n",
    "\n",
    "    # peak normalization\n",
    "    y = sum(peak_sum_list)\n",
    "    peak_normalized_list = [i / y for i in peak_sum_list]\n",
    "    return peak_normalized_list"
   ]
  },
  {
   "cell_type": "code",
   "execution_count": null,
   "metadata": {
    "pycharm": {
     "name": "#%%\n"
    }
   },
   "outputs": [],
   "source": [
    "async def main():\n",
    "    observed_time = 0\n",
    "    observed_result = pd.DataFrame(\n",
    "        [1, 0, 0], index=[\"SM\", \"product\", \"side-P\"], columns=[observed_time]\n",
    "    ).T\n",
    "    await Analysis(observed_result)\n",
    "\n",
    "\n",
    "if __name__ == \"__main__\":\n",
    "    asyncio.run(main())"
   ]
  },
  {
   "cell_type": "markdown",
   "metadata": {
    "pycharm": {
     "name": "#%% md\n"
    }
   },
   "source": [
    "## Example results\n",
    "A panda dataframe from an experiment is used to show examplary results."
   ]
  },
  {
   "cell_type": "code",
   "execution_count": 7,
   "metadata": {
    "pycharm": {
     "name": "#%%\n"
    }
   },
   "outputs": [
    {
     "data": {
      "text/plain": [
       "<matplotlib.axes._subplots.AxesSubplot at 0x2d4f65e1c50>"
      ]
     },
     "execution_count": 7,
     "metadata": {},
     "output_type": "execute_result"
    },
    {
     "data": {
      "image/png": "[encoded data removed]",
      "text/plain": [
       "<Figure size 432x288 with 1 Axes>"
      ]
     },
     "metadata": {
      "needs_background": "light"
     },
     "output_type": "display_data"
    }
   ],
   "source": [
    "%matplotlib inline\n",
    "result_file = r\"220405_in-line_whhsu044_rate10uLmin_50_02.csv\"\n",
    "df = pd.read_csv(result_file)\n",
    "\n",
    "df.plot(x=0, xlabel= 'Time (min)')"
   ]
  }
 ],
 "metadata": {
  "kernelspec": {
   "display_name": "Python 3",
   "language": "python",
   "name": "python3"
  },
  "language_info": {
   "codemirror_mode": {
    "name": "ipython",
    "version": 3
   },
   "file_extension": ".py",
   "mimetype": "text/x-python",
   "name": "python",
   "nbconvert_exporter": "python",
   "pygments_lexer": "ipython3",
   "version": "3.7.1"
  }
 },
 "nbformat": 4,
 "nbformat_minor": 2
}